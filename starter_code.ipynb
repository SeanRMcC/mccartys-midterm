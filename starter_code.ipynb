{
 "cells": [
  {
   "cell_type": "markdown",
   "metadata": {},
   "source": [
    "# Libraries"
   ]
  },
  {
   "cell_type": "code",
   "execution_count": 2,
   "metadata": {},
   "outputs": [],
   "source": [
    "import pickle\n",
    "import pandas as pd\n",
    "import seaborn as sns\n",
    "from os.path import exists\n",
    "import matplotlib.pyplot as plt\n",
    "from sklearn.neighbors import KNeighborsClassifier\n",
    "from sklearn.naive_bayes import GaussianNB\n",
    "from sklearn.svm import SVC\n",
    "from sklearn.ensemble import HistGradientBoostingClassifier\n",
    "from sklearn.model_selection import train_test_split\n",
    "from sklearn.metrics import accuracy_score, confusion_matrix\n",
    "from datetime import datetime\n",
    "from textblob import TextBlob"
   ]
  },
  {
   "cell_type": "markdown",
   "metadata": {},
   "source": [
    "# Loading the Files\n",
    "\n",
    "Download the csv files into the `data/` directory."
   ]
  },
  {
   "cell_type": "code",
   "execution_count": 3,
   "metadata": {},
   "outputs": [
    {
     "name": "stdout",
     "output_type": "stream",
     "text": [
      "train.csv shape is  (1697533, 9)\n",
      "test.csv shape is  (212192, 2)\n",
      "\n",
      "        Id   ProductId          UserId  HelpfulnessNumerator  \\\n",
      "0   914403  B0009W5KHM   AV6QDP8Q0ONK4                     2   \n",
      "1   354887  6303079709  A2I8RXJN80A2D2                     0   \n",
      "2  1407653  B004H0M2XC  A3FHV3RV8Z12E6                     0   \n",
      "3  1377458  B003ZJ9536  A12VLTA3ZHVPUY                     1   \n",
      "4   475323  630574453X  A13NM1PES9OXVN                     2   \n",
      "\n",
      "   HelpfulnessDenominator        Time  \\\n",
      "0                       2  1341014400   \n",
      "1                       0  1168819200   \n",
      "2                       0  1386201600   \n",
      "3                       1  1348704000   \n",
      "4                       3   970012800   \n",
      "\n",
      "                                         Summary  \\\n",
      "0                                  GOOD FUN FILM   \n",
      "1                                   Movie Review   \n",
      "2             When is it a good time to Consent?   \n",
      "3                                          TRUTH   \n",
      "4  Intelligent and bittersweet -- stays with you   \n",
      "\n",
      "                                                Text  Score  \n",
      "0  While most straight to DVD films are not worth...    5.0  \n",
      "1  I have wanted this one for sometime, also.  I ...    5.0  \n",
      "2  Actually this was a pretty darn good indie fil...    4.0  \n",
      "3  Episodes 37 to 72 of the series press on in a ...    5.0  \n",
      "4  I was really impressed with this movie, but wa...    3.0  \n",
      "\n",
      "        Id  Score\n",
      "0  1323432    NaN\n",
      "1  1137299    NaN\n",
      "2  1459366    NaN\n",
      "3   931601    NaN\n",
      "4  1311995    NaN\n",
      "\n",
      "                 Id  HelpfulnessNumerator  HelpfulnessDenominator  \\\n",
      "count  1.697533e+06          1.697533e+06            1.697533e+06   \n",
      "mean   8.487660e+05          3.569048e+00            5.301422e+00   \n",
      "std    4.900357e+05          1.727883e+01            2.024445e+01   \n",
      "min    0.000000e+00          0.000000e+00            0.000000e+00   \n",
      "25%    4.243830e+05          0.000000e+00            0.000000e+00   \n",
      "50%    8.487660e+05          1.000000e+00            1.000000e+00   \n",
      "75%    1.273149e+06          3.000000e+00            5.000000e+00   \n",
      "max    1.697532e+06          6.084000e+03            6.510000e+03   \n",
      "\n",
      "               Time         Score  \n",
      "count  1.697533e+06  1.485341e+06  \n",
      "mean   1.262422e+09  4.110517e+00  \n",
      "std    1.289277e+08  1.197651e+00  \n",
      "min    8.793792e+08  1.000000e+00  \n",
      "25%    1.164413e+09  4.000000e+00  \n",
      "50%    1.307491e+09  5.000000e+00  \n",
      "75%    1.373242e+09  5.000000e+00  \n",
      "max    1.406074e+09  5.000000e+00  \n"
     ]
    },
    {
     "data": {
      "image/png": "[encoded data removed]",
      "text/plain": [
       "<Figure size 640x480 with 1 Axes>"
      ]
     },
     "metadata": {},
     "output_type": "display_data"
    },
    {
     "name": "stdout",
     "output_type": "stream",
     "text": [
      "\n",
      "EVERYTHING IS PROPERLY SET UP! YOU ARE READY TO START\n"
     ]
    }
   ],
   "source": [
    "trainingSet = pd.read_csv(\"./data/train.csv\")\n",
    "testingSet = pd.read_csv(\"./data/test.csv\")\n",
    "\n",
    "print(\"train.csv shape is \", trainingSet.shape)\n",
    "print(\"test.csv shape is \", testingSet.shape)\n",
    "\n",
    "print()\n",
    "\n",
    "print(trainingSet.head())\n",
    "print()\n",
    "print(testingSet.head())\n",
    "\n",
    "print()\n",
    "\n",
    "print(trainingSet.describe())\n",
    "\n",
    "trainingSet['Score'].value_counts().plot(kind='bar', legend=True, alpha=.5)\n",
    "plt.show()\n",
    "\n",
    "print()\n",
    "print(\"EVERYTHING IS PROPERLY SET UP! YOU ARE READY TO START\")"
   ]
  },
  {
   "cell_type": "markdown",
   "metadata": {},
   "source": [
    "# Adding Features"
   ]
  },
  {
   "cell_type": "code",
   "execution_count": 4,
   "metadata": {},
   "outputs": [],
   "source": [
    "def add_features_to(df):\n",
    "    # This is where you can do all your feature extraction\n",
    "\n",
    "    file_name = \"./pickles/NumExclamation.pkl\"\n",
    "    if exists(file_name):\n",
    "        df[\"NumExclamation\"] = pd.read_pickle(file_name)\n",
    "    else:\n",
    "        ne = df[\"Text\"].apply(lambda s: sum([1 for c in s if c == \"!\"]) if type(s) == str else 0)\n",
    "        df[\"NumExclamation\"] = ne\n",
    "        ne.to_pickle(file_name)\n",
    "\n",
    "    file_name = \"./pickles/NumQuestion.pkl\"\n",
    "    if exists(file_name):\n",
    "        df[\"NumQuestion\"] = pd.read_pickle(file_name)\n",
    "    else:\n",
    "        nq = df[\"Text\"].apply(lambda s: sum([1 for c in s if c == \"?\"]) if type(s) == str else 0)\n",
    "        df[\"NumQuestion\"] = nq\n",
    "        nq.to_pickle(file_name)\n",
    "    \n",
    "    file_name = \"./pickles/TextPolarity.pkl\"\n",
    "    if exists(file_name):\n",
    "        df[\"TextPolarity\"] = pd.read_pickle(file_name)\n",
    "    else:\n",
    "        tp = df[\"Text\"].apply(lambda s: TextBlob(s).sentiment.polarity if type(s) == str else 0)\n",
    "        df[\"TextPolarity\"] = tp\n",
    "        tp.to_pickle(file_name)\n",
    "\n",
    "    file_name = \"./pickles/SummaryPolarity.pkl\"\n",
    "    if exists(file_name):\n",
    "        df[\"SummaryPolarity\"] = pd.read_pickle(file_name)\n",
    "    else:\n",
    "        sp = df[\"Summary\"].apply(lambda s: TextBlob(s).sentiment.polarity if type(s) == str else 0)\n",
    "        df[\"SummaryPolarity\"] = sp\n",
    "        sp.to_pickle(file_name)\n",
    "\n",
    "    file_name = \"./pickles/TextSub.pkl\"\n",
    "    if exists(file_name):\n",
    "        df[\"TextSub\"] = pd.read_pickle(file_name)\n",
    "    else:\n",
    "        ts = df[\"Text\"].apply(lambda s: TextBlob(s).sentiment.subjectivity if type(s) == str else 0)\n",
    "        df[\"TextSub\"] = ts\n",
    "        ts.to_pickle(file_name)\n",
    "    \n",
    "    file_name = \"./pickles/SummarySub.pkl\"\n",
    "    if exists(file_name):\n",
    "        df[\"SummarySub\"] = pd.read_pickle(file_name)\n",
    "    else:\n",
    "        ss = df[\"Summary\"].apply(lambda s: TextBlob(s).sentiment.subjectivity if type(s) == str else 0)\n",
    "        df[\"SummarySub\"] = ss\n",
    "        ss.to_pickle(file_name)\n",
    "\n",
    "    file_name = \"./pickles/Helpfulness.pkl\"\n",
    "    if exists(file_name):\n",
    "        df[\"Helpfulness\"] = pd.read_pickle(file_name)\n",
    "    else:\n",
    "        h = df[\"HelpfulnessNumerator\"] / df[\"HelpfulnessDenominator\"]\n",
    "        h = h.fillna(0)\n",
    "        df[\"Helpfulness\"] = h\n",
    "        h.to_pickle(file_name)\n",
    "\n",
    "    file_name = \"./pickles/TextLen.pkl\"\n",
    "    if exists(file_name):\n",
    "        df[\"TextLen\"] = pd.read_pickle(file_name)\n",
    "    else:\n",
    "        tl = df[\"Text\"].apply(lambda t: len(t.split()) if type(t) == str else 0)\n",
    "        df[\"TextLen\"] = tl\n",
    "        tl.to_pickle(file_name)\n",
    "\n",
    "    # Magnify Polarity\n",
    "    #df[\"TextPolarity\"] = df[\"TextPolarity\"] * 10\n",
    "    #df[\"SummaryPolarity\"] = df[\"SummaryPolarity\"] * 10\n",
    "\n",
    "    return df\n",
    "\n",
    "# Load the feature extracted files if they've already been generated\n",
    "if exists('./data/X_train.csv'):\n",
    "    X_train = pd.read_csv(\"./data/X_train.csv\")\n",
    "if exists('./data/X_submission.csv'):\n",
    "    X_submission = pd.read_csv(\"./data/X_submission.csv\")\n",
    "\n",
    "else:\n",
    "    # Process the DataFrame\n",
    "    train = add_features_to(trainingSet)\n",
    "\n",
    "    # Merge on Id so that the submission set can have feature columns as well\n",
    "    X_submission = pd.merge(train, testingSet, left_on='Id', right_on='Id')\n",
    "    X_submission = X_submission.drop(columns=['Score_x'])\n",
    "    X_submission = X_submission.rename(columns={'Score_y': 'Score'})\n",
    "\n",
    "    # The training set is where the score is not null\n",
    "    X_train =  train[train['Score'].notnull()]\n",
    "\n",
    "    X_submission.to_csv(\"./data/X_submission.csv\", index=False)\n",
    "    X_train.to_csv(\"./data/X_train.csv\", index=False)"
   ]
  },
  {
   "cell_type": "code",
   "execution_count": 5,
   "metadata": {},
   "outputs": [
    {
     "data": {
      "image/png": "[encoded data removed]",
      "text/plain": [
       "<Figure size 640x480 with 1 Axes>"
      ]
     },
     "metadata": {},
     "output_type": "display_data"
    }
   ],
   "source": [
    "X_train[[\"Score\", \"SummarySub\"]].groupby(\"Score\").mean().plot(kind=\"bar\")\n",
    "plt.show()"
   ]
  },
  {
   "cell_type": "code",
   "execution_count": 6,
   "metadata": {},
   "outputs": [
    {
     "data": {
      "text/html": [
       "<div>\n",
       "<style scoped>\n",
       "    .dataframe tbody tr th:only-of-type {\n",
       "        vertical-align: middle;\n",
       "    }\n",
       "\n",
       "    .dataframe tbody tr th {\n",
       "        vertical-align: top;\n",
       "    }\n",
       "\n",
       "    .dataframe thead tr th {\n",
       "        text-align: left;\n",
       "    }\n",
       "\n",
       "    .dataframe thead tr:last-of-type th {\n",
       "        text-align: right;\n",
       "    }\n",
       "</style>\n",
       "<table border=\"1\" class=\"dataframe\">\n",
       "  <thead>\n",
       "    <tr>\n",
       "      <th></th>\n",
       "      <th colspan=\"8\" halign=\"left\">TextSub</th>\n",
       "    </tr>\n",
       "    <tr>\n",
       "      <th></th>\n",
       "      <th>count</th>\n",
       "      <th>mean</th>\n",
       "      <th>std</th>\n",
       "      <th>min</th>\n",
       "      <th>25%</th>\n",
       "      <th>50%</th>\n",
       "      <th>75%</th>\n",
       "      <th>max</th>\n",
       "    </tr>\n",
       "    <tr>\n",
       "      <th>Score</th>\n",
       "      <th></th>\n",
       "      <th></th>\n",
       "      <th></th>\n",
       "      <th></th>\n",
       "      <th></th>\n",
       "      <th></th>\n",
       "      <th></th>\n",
       "      <th></th>\n",
       "    </tr>\n",
       "  </thead>\n",
       "  <tbody>\n",
       "    <tr>\n",
       "      <th>1.0</th>\n",
       "      <td>91190.0</td>\n",
       "      <td>0.528559</td>\n",
       "      <td>0.146948</td>\n",
       "      <td>0.0</td>\n",
       "      <td>0.454946</td>\n",
       "      <td>0.528646</td>\n",
       "      <td>0.605556</td>\n",
       "      <td>1.0</td>\n",
       "    </tr>\n",
       "    <tr>\n",
       "      <th>2.0</th>\n",
       "      <td>89678.0</td>\n",
       "      <td>0.520172</td>\n",
       "      <td>0.123292</td>\n",
       "      <td>0.0</td>\n",
       "      <td>0.455981</td>\n",
       "      <td>0.518178</td>\n",
       "      <td>0.583416</td>\n",
       "      <td>1.0</td>\n",
       "    </tr>\n",
       "    <tr>\n",
       "      <th>3.0</th>\n",
       "      <td>176082.0</td>\n",
       "      <td>0.514263</td>\n",
       "      <td>0.119492</td>\n",
       "      <td>0.0</td>\n",
       "      <td>0.450000</td>\n",
       "      <td>0.511692</td>\n",
       "      <td>0.576923</td>\n",
       "      <td>1.0</td>\n",
       "    </tr>\n",
       "    <tr>\n",
       "      <th>4.0</th>\n",
       "      <td>335228.0</td>\n",
       "      <td>0.526514</td>\n",
       "      <td>0.124272</td>\n",
       "      <td>0.0</td>\n",
       "      <td>0.457675</td>\n",
       "      <td>0.521712</td>\n",
       "      <td>0.592552</td>\n",
       "      <td>1.0</td>\n",
       "    </tr>\n",
       "    <tr>\n",
       "      <th>5.0</th>\n",
       "      <td>793163.0</td>\n",
       "      <td>0.550355</td>\n",
       "      <td>0.146692</td>\n",
       "      <td>0.0</td>\n",
       "      <td>0.468546</td>\n",
       "      <td>0.545357</td>\n",
       "      <td>0.630748</td>\n",
       "      <td>1.0</td>\n",
       "    </tr>\n",
       "  </tbody>\n",
       "</table>\n",
       "</div>"
      ],
      "text/plain": [
       "        TextSub                                                            \n",
       "          count      mean       std  min       25%       50%       75%  max\n",
       "Score                                                                      \n",
       "1.0     91190.0  0.528559  0.146948  0.0  0.454946  0.528646  0.605556  1.0\n",
       "2.0     89678.0  0.520172  0.123292  0.0  0.455981  0.518178  0.583416  1.0\n",
       "3.0    176082.0  0.514263  0.119492  0.0  0.450000  0.511692  0.576923  1.0\n",
       "4.0    335228.0  0.526514  0.124272  0.0  0.457675  0.521712  0.592552  1.0\n",
       "5.0    793163.0  0.550355  0.146692  0.0  0.468546  0.545357  0.630748  1.0"
      ]
     },
     "execution_count": 6,
     "metadata": {},
     "output_type": "execute_result"
    }
   ],
   "source": [
    "X_train[[\"Score\", \"TextSub\"]].groupby(\"Score\").describe()"
   ]
  },
  {
   "cell_type": "code",
   "execution_count": 7,
   "metadata": {},
   "outputs": [
    {
     "data": {
      "image/png": "[encoded data removed]",
      "text/plain": [
       "<Figure size 640x480 with 1 Axes>"
      ]
     },
     "metadata": {},
     "output_type": "display_data"
    }
   ],
   "source": [
    "X_train[[\"Score\", \"TextSub\"]].groupby(\"Score\").mean().plot(kind=\"bar\")\n",
    "plt.show()"
   ]
  },
  {
   "cell_type": "code",
   "execution_count": 8,
   "metadata": {},
   "outputs": [
    {
     "data": {
      "image/png": "[encoded data removed]",
      "text/plain": [
       "<Figure size 640x480 with 1 Axes>"
      ]
     },
     "metadata": {},
     "output_type": "display_data"
    }
   ],
   "source": [
    "X_train[[\"Score\", \"SummaryPolarity\"]].groupby(\"Score\").mean().plot(kind=\"bar\")\n",
    "plt.show()"
   ]
  },
  {
   "cell_type": "code",
   "execution_count": 9,
   "metadata": {},
   "outputs": [
    {
     "data": {
      "image/png": "[encoded data removed]",
      "text/plain": [
       "<Figure size 640x480 with 1 Axes>"
      ]
     },
     "metadata": {},
     "output_type": "display_data"
    }
   ],
   "source": [
    "X_train[[\"Score\", \"TextPolarity\"]].groupby(\"Score\").mean().plot(kind=\"bar\")\n",
    "plt.show()"
   ]
  },
  {
   "cell_type": "code",
   "execution_count": 10,
   "metadata": {},
   "outputs": [
    {
     "data": {
      "image/png": "[encoded data removed]",
      "text/plain": [
       "<Figure size 640x480 with 1 Axes>"
      ]
     },
     "metadata": {},
     "output_type": "display_data"
    }
   ],
   "source": [
    "X_train[[\"Score\", \"NumQuestion\"]].groupby(\"Score\").mean().plot(kind=\"bar\")\n",
    "plt.show()"
   ]
  },
  {
   "cell_type": "code",
   "execution_count": 11,
   "metadata": {},
   "outputs": [
    {
     "data": {
      "text/html": [
       "<div>\n",
       "<style scoped>\n",
       "    .dataframe tbody tr th:only-of-type {\n",
       "        vertical-align: middle;\n",
       "    }\n",
       "\n",
       "    .dataframe tbody tr th {\n",
       "        vertical-align: top;\n",
       "    }\n",
       "\n",
       "    .dataframe thead tr th {\n",
       "        text-align: left;\n",
       "    }\n",
       "\n",
       "    .dataframe thead tr:last-of-type th {\n",
       "        text-align: right;\n",
       "    }\n",
       "</style>\n",
       "<table border=\"1\" class=\"dataframe\">\n",
       "  <thead>\n",
       "    <tr>\n",
       "      <th></th>\n",
       "      <th colspan=\"8\" halign=\"left\">NumQuestion</th>\n",
       "    </tr>\n",
       "    <tr>\n",
       "      <th></th>\n",
       "      <th>count</th>\n",
       "      <th>mean</th>\n",
       "      <th>std</th>\n",
       "      <th>min</th>\n",
       "      <th>25%</th>\n",
       "      <th>50%</th>\n",
       "      <th>75%</th>\n",
       "      <th>max</th>\n",
       "    </tr>\n",
       "    <tr>\n",
       "      <th>Score</th>\n",
       "      <th></th>\n",
       "      <th></th>\n",
       "      <th></th>\n",
       "      <th></th>\n",
       "      <th></th>\n",
       "      <th></th>\n",
       "      <th></th>\n",
       "      <th></th>\n",
       "    </tr>\n",
       "  </thead>\n",
       "  <tbody>\n",
       "    <tr>\n",
       "      <th>1.0</th>\n",
       "      <td>91190.0</td>\n",
       "      <td>0.740586</td>\n",
       "      <td>1.997084</td>\n",
       "      <td>0.0</td>\n",
       "      <td>0.0</td>\n",
       "      <td>0.0</td>\n",
       "      <td>1.0</td>\n",
       "      <td>99.0</td>\n",
       "    </tr>\n",
       "    <tr>\n",
       "      <th>2.0</th>\n",
       "      <td>89678.0</td>\n",
       "      <td>0.698967</td>\n",
       "      <td>1.768740</td>\n",
       "      <td>0.0</td>\n",
       "      <td>0.0</td>\n",
       "      <td>0.0</td>\n",
       "      <td>1.0</td>\n",
       "      <td>55.0</td>\n",
       "    </tr>\n",
       "    <tr>\n",
       "      <th>3.0</th>\n",
       "      <td>176082.0</td>\n",
       "      <td>0.481827</td>\n",
       "      <td>1.377116</td>\n",
       "      <td>0.0</td>\n",
       "      <td>0.0</td>\n",
       "      <td>0.0</td>\n",
       "      <td>0.0</td>\n",
       "      <td>54.0</td>\n",
       "    </tr>\n",
       "    <tr>\n",
       "      <th>4.0</th>\n",
       "      <td>335228.0</td>\n",
       "      <td>0.339453</td>\n",
       "      <td>1.072916</td>\n",
       "      <td>0.0</td>\n",
       "      <td>0.0</td>\n",
       "      <td>0.0</td>\n",
       "      <td>0.0</td>\n",
       "      <td>80.0</td>\n",
       "    </tr>\n",
       "    <tr>\n",
       "      <th>5.0</th>\n",
       "      <td>793163.0</td>\n",
       "      <td>0.226232</td>\n",
       "      <td>0.876809</td>\n",
       "      <td>0.0</td>\n",
       "      <td>0.0</td>\n",
       "      <td>0.0</td>\n",
       "      <td>0.0</td>\n",
       "      <td>107.0</td>\n",
       "    </tr>\n",
       "  </tbody>\n",
       "</table>\n",
       "</div>"
      ],
      "text/plain": [
       "      NumQuestion                                               \n",
       "            count      mean       std  min  25%  50%  75%    max\n",
       "Score                                                           \n",
       "1.0       91190.0  0.740586  1.997084  0.0  0.0  0.0  1.0   99.0\n",
       "2.0       89678.0  0.698967  1.768740  0.0  0.0  0.0  1.0   55.0\n",
       "3.0      176082.0  0.481827  1.377116  0.0  0.0  0.0  0.0   54.0\n",
       "4.0      335228.0  0.339453  1.072916  0.0  0.0  0.0  0.0   80.0\n",
       "5.0      793163.0  0.226232  0.876809  0.0  0.0  0.0  0.0  107.0"
      ]
     },
     "execution_count": 11,
     "metadata": {},
     "output_type": "execute_result"
    }
   ],
   "source": [
    "X_train[[\"Score\", \"NumQuestion\"]].groupby(\"Score\").describe()"
   ]
  },
  {
   "cell_type": "code",
   "execution_count": 12,
   "metadata": {},
   "outputs": [
    {
     "data": {
      "image/png": "[encoded data removed]",
      "text/plain": [
       "<Figure size 640x480 with 1 Axes>"
      ]
     },
     "metadata": {},
     "output_type": "display_data"
    }
   ],
   "source": [
    "X_train[[\"Score\", \"NumExclamation\"]].groupby(\"Score\").mean().plot(kind=\"bar\")\n",
    "plt.show()"
   ]
  },
  {
   "cell_type": "code",
   "execution_count": 13,
   "metadata": {},
   "outputs": [
    {
     "data": {
      "text/html": [
       "<div>\n",
       "<style scoped>\n",
       "    .dataframe tbody tr th:only-of-type {\n",
       "        vertical-align: middle;\n",
       "    }\n",
       "\n",
       "    .dataframe tbody tr th {\n",
       "        vertical-align: top;\n",
       "    }\n",
       "\n",
       "    .dataframe thead tr th {\n",
       "        text-align: left;\n",
       "    }\n",
       "\n",
       "    .dataframe thead tr:last-of-type th {\n",
       "        text-align: right;\n",
       "    }\n",
       "</style>\n",
       "<table border=\"1\" class=\"dataframe\">\n",
       "  <thead>\n",
       "    <tr>\n",
       "      <th></th>\n",
       "      <th colspan=\"8\" halign=\"left\">NumExclamation</th>\n",
       "    </tr>\n",
       "    <tr>\n",
       "      <th></th>\n",
       "      <th>count</th>\n",
       "      <th>mean</th>\n",
       "      <th>std</th>\n",
       "      <th>min</th>\n",
       "      <th>25%</th>\n",
       "      <th>50%</th>\n",
       "      <th>75%</th>\n",
       "      <th>max</th>\n",
       "    </tr>\n",
       "    <tr>\n",
       "      <th>Score</th>\n",
       "      <th></th>\n",
       "      <th></th>\n",
       "      <th></th>\n",
       "      <th></th>\n",
       "      <th></th>\n",
       "      <th></th>\n",
       "      <th></th>\n",
       "      <th></th>\n",
       "    </tr>\n",
       "  </thead>\n",
       "  <tbody>\n",
       "    <tr>\n",
       "      <th>1.0</th>\n",
       "      <td>91190.0</td>\n",
       "      <td>0.989067</td>\n",
       "      <td>2.930460</td>\n",
       "      <td>0.0</td>\n",
       "      <td>0.0</td>\n",
       "      <td>0.0</td>\n",
       "      <td>1.0</td>\n",
       "      <td>149.0</td>\n",
       "    </tr>\n",
       "    <tr>\n",
       "      <th>2.0</th>\n",
       "      <td>89678.0</td>\n",
       "      <td>0.579083</td>\n",
       "      <td>2.013139</td>\n",
       "      <td>0.0</td>\n",
       "      <td>0.0</td>\n",
       "      <td>0.0</td>\n",
       "      <td>0.0</td>\n",
       "      <td>166.0</td>\n",
       "    </tr>\n",
       "    <tr>\n",
       "      <th>3.0</th>\n",
       "      <td>176082.0</td>\n",
       "      <td>0.456793</td>\n",
       "      <td>1.595721</td>\n",
       "      <td>0.0</td>\n",
       "      <td>0.0</td>\n",
       "      <td>0.0</td>\n",
       "      <td>0.0</td>\n",
       "      <td>118.0</td>\n",
       "    </tr>\n",
       "    <tr>\n",
       "      <th>4.0</th>\n",
       "      <td>335228.0</td>\n",
       "      <td>0.550345</td>\n",
       "      <td>1.720946</td>\n",
       "      <td>0.0</td>\n",
       "      <td>0.0</td>\n",
       "      <td>0.0</td>\n",
       "      <td>0.0</td>\n",
       "      <td>177.0</td>\n",
       "    </tr>\n",
       "    <tr>\n",
       "      <th>5.0</th>\n",
       "      <td>793163.0</td>\n",
       "      <td>0.889489</td>\n",
       "      <td>2.584007</td>\n",
       "      <td>0.0</td>\n",
       "      <td>0.0</td>\n",
       "      <td>0.0</td>\n",
       "      <td>1.0</td>\n",
       "      <td>295.0</td>\n",
       "    </tr>\n",
       "  </tbody>\n",
       "</table>\n",
       "</div>"
      ],
      "text/plain": [
       "      NumExclamation                                               \n",
       "               count      mean       std  min  25%  50%  75%    max\n",
       "Score                                                              \n",
       "1.0          91190.0  0.989067  2.930460  0.0  0.0  0.0  1.0  149.0\n",
       "2.0          89678.0  0.579083  2.013139  0.0  0.0  0.0  0.0  166.0\n",
       "3.0         176082.0  0.456793  1.595721  0.0  0.0  0.0  0.0  118.0\n",
       "4.0         335228.0  0.550345  1.720946  0.0  0.0  0.0  0.0  177.0\n",
       "5.0         793163.0  0.889489  2.584007  0.0  0.0  0.0  1.0  295.0"
      ]
     },
     "execution_count": 13,
     "metadata": {},
     "output_type": "execute_result"
    }
   ],
   "source": [
    "X_train[[\"Score\", \"NumExclamation\"]].groupby(\"Score\").describe()"
   ]
  },
  {
   "cell_type": "markdown",
   "metadata": {},
   "source": [
    "# Sample + Split into training and testing set"
   ]
  },
  {
   "cell_type": "code",
   "execution_count": 14,
   "metadata": {},
   "outputs": [],
   "source": [
    "# Split training set into training and testing set\n",
    "\n",
    "X_train, X_test, Y_train, Y_test = train_test_split(\n",
    "    X_train.drop(columns=['Score']),\n",
    "    X_train['Score'],\n",
    "    test_size=1/4.0,\n",
    "    random_state=0\n",
    ")\n"
   ]
  },
  {
   "cell_type": "markdown",
   "metadata": {},
   "source": [
    "# Modify training split to sample an equal amount of each class"
   ]
  },
  {
   "cell_type": "code",
   "execution_count": 15,
   "metadata": {},
   "outputs": [
    {
     "data": {
      "text/plain": [
       "Score\n",
       "5.0    595120\n",
       "4.0    251418\n",
       "3.0    131911\n",
       "1.0     68284\n",
       "2.0     67272\n",
       "Name: count, dtype: int64"
      ]
     },
     "execution_count": 15,
     "metadata": {},
     "output_type": "execute_result"
    }
   ],
   "source": [
    "# Sample the data to get an equal num for each class\n",
    "X_Y_test = pd.concat([X_train, Y_train], axis=1)\n",
    "X_Y_test[\"Score\"].value_counts()"
   ]
  },
  {
   "cell_type": "code",
   "execution_count": 16,
   "metadata": {},
   "outputs": [],
   "source": [
    "pId_averages = X_Y_test[[\"ProductId\", \"Score\"]].groupby(\"ProductId\", as_index=False).mean()\n",
    "uId_averages = X_Y_test[[\"UserId\", \"Score\"]].groupby(\"UserId\", as_index=False).mean()\n",
    "\n",
    "def avgMR(movieId):\n",
    "    curr_avg = pId_averages.loc[pId_averages[\"ProductId\"] == movieId].to_numpy()\n",
    "    if len(curr_avg) == 1:\n",
    "        return curr_avg[0,1]\n",
    "    else:\n",
    "        return 2.5\n",
    "\n",
    "def avgUR(userId):\n",
    "    curr_avg = uId_averages.loc[uId_averages[\"UserId\"] == userId].to_numpy()\n",
    "    if len(curr_avg) == 1:\n",
    "        return curr_avg[0,1]\n",
    "    else:\n",
    "        return 2.5\n",
    "    \n",
    "file_name = \"./pickles/AvgMovieRating.pkl\"\n",
    "if exists(file_name):\n",
    "    X_Y_test[\"AvgMovieRating\"] = pd.read_pickle(file_name)\n",
    "else:\n",
    "    amr = X_Y_test[\"ProductId\"].apply(avgMR)\n",
    "    X_Y_test[\"AvgMovieRating\"] = amr\n",
    "    amr.to_pickle(file_name)\n",
    "\n",
    "file_name = \"./pickles/AvgUserRating.pkl\"\n",
    "if exists(file_name):\n",
    "    X_Y_test[\"AvgUserRating\"] = pd.read_pickle(file_name)\n",
    "else:\n",
    "    aur = X_Y_test[\"UserId\"].apply(avgUR)\n",
    "    X_Y_test[\"AvgUserRating\"] = aur\n",
    "    aur.to_pickle(file_name)\n"
   ]
  },
  {
   "cell_type": "code",
   "execution_count": 17,
   "metadata": {},
   "outputs": [],
   "source": [
    "# X_Y_test = X_Y_test.groupby(\"Score\", group_keys=False).apply(lambda s: s.sample(n=60_000, random_state=1))\n",
    "# X_Y_test[\"Score\"].value_counts()"
   ]
  },
  {
   "cell_type": "code",
   "execution_count": 18,
   "metadata": {},
   "outputs": [
    {
     "name": "stderr",
     "output_type": "stream",
     "text": [
      "/var/folders/nh/f8xhddwj6ps6l22lr0rxm21h0000gn/T/ipykernel_51919/3829858026.py:2: DeprecationWarning: DataFrameGroupBy.apply operated on the grouping columns. This behavior is deprecated, and in a future version of pandas the grouping columns will be excluded from the operation. Either pass `include_groups=False` to exclude the groupings or explicitly select the grouping columns after groupby to silence this warning.\n",
      "  X_Y_test_sampled = X_Y_test.groupby(\"Score\", group_keys=False).apply(lambda c: c.sample(frac=percent, random_state=1))\n"
     ]
    }
   ],
   "source": [
    "percent = .2\n",
    "X_Y_test_sampled = X_Y_test.groupby(\"Score\", group_keys=False).apply(lambda c: c.sample(frac=percent, random_state=1))"
   ]
  },
  {
   "cell_type": "code",
   "execution_count": 19,
   "metadata": {},
   "outputs": [],
   "source": [
    "X_train, Y_train = X_Y_test_sampled.drop(columns=[\"Score\"]), X_Y_test_sampled[\"Score\"]"
   ]
  },
  {
   "cell_type": "markdown",
   "metadata": {},
   "source": [
    "# Adding Aggregate Features to Testing Sets"
   ]
  },
  {
   "cell_type": "code",
   "execution_count": 20,
   "metadata": {},
   "outputs": [],
   "source": [
    "file_name = \"./pickles/TestAvgMovieRating.pkl\"\n",
    "if exists(file_name):\n",
    "    X_test[\"AvgMovieRating\"] = pd.read_pickle(file_name)\n",
    "else:\n",
    "    amr = X_test[\"ProductId\"].apply(avgMR)\n",
    "    X_test[\"AvgMovieRating\"] = amr\n",
    "    amr.to_pickle(file_name)\n",
    "\n",
    "file_name = \"./pickles/TestAvgUserRating.pkl\"\n",
    "if exists(file_name):\n",
    "    X_test[\"AvgUserRating\"] = pd.read_pickle(file_name)\n",
    "else:\n",
    "    amr = X_test[\"UserId\"].apply(avgUR)\n",
    "    X_test[\"AvgUserRating\"] = amr\n",
    "    amr.to_pickle(file_name)\n",
    "\n",
    "file_name = \"./pickles/KaggleAvgMovieRating.pkl\"\n",
    "if exists(file_name):\n",
    "    X_submission[\"AvgMovieRating\"] = pd.read_pickle(file_name)\n",
    "else:\n",
    "    amr = X_submission[\"ProductId\"].apply(avgMR)\n",
    "    X_submission[\"AvgMovieRating\"] = amr\n",
    "    amr.to_pickle(file_name)\n",
    "\n",
    "file_name = \"./pickles/KaggleAvgUserRating.pkl\"\n",
    "if exists(file_name):\n",
    "    X_submission[\"AvgUserRating\"] = pd.read_pickle(file_name)\n",
    "else:\n",
    "    amr = X_submission[\"UserId\"].apply(avgUR)\n",
    "    X_submission[\"AvgUserRating\"] = amr\n",
    "    amr.to_pickle(file_name)"
   ]
  },
  {
   "cell_type": "markdown",
   "metadata": {},
   "source": [
    "# Feature Selection"
   ]
  },
  {
   "cell_type": "code",
   "execution_count": 50,
   "metadata": {},
   "outputs": [],
   "source": [
    "# features = ['HelpfulnessNumerator', 'HelpfulnessDenominator', 'Time', 'Helpfulness', 'LenReview']\n",
    "features = [\"NumExclamation\", \"NumQuestion\", \"TextPolarity\", \"SummaryPolarity\", \"TextSub\", \"SummarySub\", \"AvgMovieRating\", \"AvgUserRating\", \"Helpfulness\", \"TextLen\"]\n",
    "\n",
    "X_train_select = X_train[features]\n",
    "X_test_select = X_test[features]\n",
    "X_submission_select = X_submission[features]"
   ]
  },
  {
   "cell_type": "markdown",
   "metadata": {},
   "source": [
    "# Model Creation"
   ]
  },
  {
   "cell_type": "code",
   "execution_count": 51,
   "metadata": {},
   "outputs": [],
   "source": [
    "# Learn the model\n",
    "# model = KNeighborsClassifier(n_neighbors=500).fit(X_train_select, Y_train)\n",
    "# model = GaussianNB().fit(X_train_select, Y_train)\n",
    "# model = SVC().fit(X_train_select, Y_train)\n",
    "model = HistGradientBoostingClassifier(random_state=1).fit(X_train_select, Y_train)\n",
    "\n",
    "# Predict the score using the model\n",
    "Y_test_predictions = model.predict(X_test_select)"
   ]
  },
  {
   "cell_type": "markdown",
   "metadata": {},
   "source": [
    "# Model Evaluation"
   ]
  },
  {
   "cell_type": "code",
   "execution_count": 52,
   "metadata": {},
   "outputs": [
    {
     "name": "stdout",
     "output_type": "stream",
     "text": [
      "Accuracy on testing set =  0.6052496930004093\n"
     ]
    },
    {
     "data": {
      "image/png": "[encoded data removed]",
      "text/plain": [
       "<Figure size 640x480 with 2 Axes>"
      ]
     },
     "metadata": {},
     "output_type": "display_data"
    }
   ],
   "source": [
    "# Evaluate your model on the testing set\n",
    "print(\"Accuracy on testing set = \", accuracy_score(Y_test, Y_test_predictions))\n",
    "\n",
    "# Plot a confusion matrix\n",
    "cm = confusion_matrix(Y_test, Y_test_predictions, normalize='true')\n",
    "sns.heatmap(cm, annot=True)\n",
    "plt.title('Confusion matrix of the classifier')\n",
    "plt.xlabel('Predicted')\n",
    "plt.ylabel('True')\n",
    "plt.show()"
   ]
  },
  {
   "cell_type": "markdown",
   "metadata": {},
   "source": [
    "# Create submission file"
   ]
  },
  {
   "cell_type": "code",
   "execution_count": 24,
   "metadata": {},
   "outputs": [],
   "source": [
    "# Create the submission file\n",
    "X_submission['Score'] = model.predict(X_submission_select)\n",
    "submission = X_submission[['Id', 'Score']]\n",
    "submission.to_csv(\"./data/submission.csv\", index=False)"
   ]
  }
 ],
 "metadata": {
  "kernelspec": {
   "display_name": ".venv",
   "language": "python",
   "name": "python3"
  },
  "language_info": {
   "codemirror_mode": {
    "name": "ipython",
    "version": 3
   },
   "file_extension": ".py",
   "mimetype": "text/x-python",
   "name": "python",
   "nbconvert_exporter": "python",
   "pygments_lexer": "ipython3",
   "version": "3.12.5"
  }
 },
 "nbformat": 4,
 "nbformat_minor": 2
}
